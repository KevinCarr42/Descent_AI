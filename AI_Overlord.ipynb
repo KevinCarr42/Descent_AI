{
 "cells": [
  {
   "cell_type": "markdown",
   "metadata": {
    "id": "EaFojSg4OHil"
   },
   "source": [
    "# A1 0V3RL0RD\n",
    "## Descent: Journeys in the Dark AI Uprising"
   ]
  },
  {
   "cell_type": "code",
   "execution_count": 1,
   "metadata": {
    "id": "_l4Z8TbqxMLR"
   },
   "outputs": [
    {
     "data": {
      "text/html": [
       "<style>.container { width:100% !important; }</style>"
      ],
      "text/plain": [
       "<IPython.core.display.HTML object>"
      ]
     },
     "metadata": {},
     "output_type": "display_data"
    }
   ],
   "source": [
    "############### IMPORTS ###############\n",
    "\n",
    "import numpy as np\n",
    "import pandas as pd\n",
    "import time\n",
    "\n",
    "############### FORMATTING ###############\n",
    "\n",
    "# jupyter notebook full-width display\n",
    "from IPython.core.display import display, HTML\n",
    "display(HTML(\"<style>.container { width:100% !important; }</style>\"))\n",
    "pd.set_option('display.max_colwidth', 1000)\n"
   ]
  },
  {
   "cell_type": "code",
   "execution_count": 2,
   "metadata": {
    "id": "-KhaJqlFxMIh"
   },
   "outputs": [],
   "source": [
    "############### MONSTER STRATEGY ###############\n",
    "\n",
    "def monster_order(chance_heroes_choose=0.1):\n",
    "\n",
    "    monster_order = {\n",
    "        'Monster Order by Type:': ['melee', 'ranged'],\n",
    "        'Monster Order by Rank:': ['masters', 'minion']\n",
    "    }\n",
    "    \n",
    "    dataframe = pd.DataFrame()\n",
    "    for key in monster_order.keys():\n",
    "        order = ''\n",
    "        for item in np.random.permutation(monster_order[key]):\n",
    "            if order:\n",
    "                order += ' => ' + item.upper()\n",
    "            else:\n",
    "                order += item.upper()\n",
    "        \n",
    "        if np.random.random() < chance_heroes_choose: \n",
    "            order = 'HEROES CHOOSE'\n",
    "        \n",
    "        dataframe.loc[key, ''] = order\n",
    "\n",
    "    return dataframe\n",
    "\n",
    "\n",
    "# # formatted test output\n",
    "# print('\\n==================================\\nMONSTER ORDER OF ATTACK')\n",
    "# display(monster_order(0.5).style.set_properties(**{'text-align': 'left'}))\n",
    "# print('\\n')"
   ]
  },
  {
   "cell_type": "code",
   "execution_count": 3,
   "metadata": {
    "id": "DbBsNWsWxMFx"
   },
   "outputs": [],
   "source": [
    "############### OVERLORD CARDS ###############\n",
    "\n",
    "def overlord_card_rule(draw_card_manually=True, max_cards=5):\n",
    "    \n",
    "    # overlord card rules\n",
    "    overlord_rules = {\n",
    "        'What to do with the overlord card': [\n",
    "            'ignore and discard', \n",
    "            'play first time possible, discard', \n",
    "            'play first time possible, discard, draw a new card, repeat',\n",
    "            'when possible, roll red, play the card if you roll a Surge, then keep card and repeat for the round',\n",
    "            'when possible, roll red, play the card if you roll a Surge, then discard the card'\n",
    "        ]\n",
    "    }\n",
    "    \n",
    "    card_rule = np.random.choice(overlord_rules['What to do with the overlord card'])\n",
    "    print(card_rule)\n",
    "    \n",
    "    if draw_card_manually or 'ignore and discard' in card_rule:\n",
    "        pass\n",
    "    else:\n",
    "        if 'draw a new card' not in card_rule:  # only draw more than one card if max cards\n",
    "            min_cards, max_cards = 1, 1\n",
    "        else:\n",
    "            print('\\n...once you run out of cards, you are done')\n",
    "            min_cards = 2\n",
    "        \n",
    "        display(overlord_card(min_cards=min_cards, max_cards=max_cards))\n",
    "\n",
    "\n",
    "def overlord_card(min_cards=1, max_cards=1):\n",
    "    \n",
    "    if min_cards > max_cards:\n",
    "        max_cards = min_cards\n",
    "    \n",
    "    # choose random card\n",
    "    overlord_cards = {\n",
    "        'Pit Trap': 'Play this card when a hero enters an empty space. He tests Awareness. If he fails, he suffers 1 Heart and loses 1 movement point. If he has no movement points to lose (such as if he suffered fatigue to move), he is Stunned.',\n",
    "        'Critical Blow': 'Play this card when a monster attacks a hero, after rolling dice. \\nThe attack gains: \\nSurge: +3 Heart',\n",
    "        'Poison Dart': 'Play this card when a hero opens a door or searches. He tests Awareness or Might (your choice). If he passes, draw 1 Overlord Card. If he fails, he suffers 1 Heart, 1 Fatigue, and he is Poisoned.',\n",
    "        'Word of Misery': 'Play this card at the start of your turn. During this turn, each time a hero suffers any Heart, he also suffers 1 Fatigue in addition to the Heart suffered.',\n",
    "        'Dark Charm': 'Play this card on a hero at the start of your turn. The hero tests Willpower. If he passes, draw 1 Overlord Card. If he fails, you may perform a move or attack action with that hero as if he were one of your monsters this turn. You cannot force him to suffer Fatigue or use a Potion, but you may force him to attack himself.',\n",
    "        'Dark Might': 'Play this card after you roll dice for an attack. Add 1 Surge to the results.',\n",
    "        'Tripwire': 'Play this card when a hero enters an empty space during a move action. He tests Awareness. If he fails, he must end his move action (he can still suffer Fatigue to move further, or perform a second move action if this was his first action).',\n",
    "        'Dash': 'Play this card when activating a monster during your turn. That monster may perform an additional move action this turn in addition to its normal 2 actions.',\n",
    "        'Frenzy': 'Play this card when activating a monster during your turn. That monster may perform an additional attack action this turn in addition to its normal 2 actions.',\n",
    "        'Dark Fortune': 'Play this card after you roll dice. You may reroll 1 die.'\n",
    "    }\n",
    "    return pd.DataFrame(overlord_cards, index=['']).T.sample(np.random.randint(1, max_cards+1)).style.set_properties(**{'text-align': 'left'})\n",
    "\n",
    "\n",
    "# # formatted test output\n",
    "# print('\\n==================================\\nOVERLORD CARDS\\n\\ndraw a card...')\n",
    "# overlord_card_rule(False)  # false means the computer draws the cards\n",
    "# print('\\n')"
   ]
  },
  {
   "cell_type": "code",
   "execution_count": 65,
   "metadata": {
    "colab": {
     "base_uri": "https://localhost:8080/",
     "height": 465
    },
    "id": "AfO3LsRnxMDC",
    "outputId": "b6d984d1-ae62-46d1-e598-2bcc4d88b519"
   },
   "outputs": [],
   "source": [
    "############### MONSTER TACTICS ###############\n",
    "\n",
    "# choose 1 random output from lists\n",
    "melee = {\n",
    "    'Quest:': ['top priority', 'attack but attempt', 'ignore'],\n",
    "    'Target:': ['closest', 'most damaged in range', 'most surroundable'], \n",
    "    'Move:': ['attack then back off', 'attack and stay adjacent'],\n",
    "    'Special:': [\n",
    "        'use special instead of attack (both if possible)', \n",
    "        'attack then special if possible', \n",
    "        'no special ability this turn'\n",
    "    ],\n",
    "}\n",
    "\n",
    "# choose 1 random output from lists\n",
    "ranged = {\n",
    "    'Quest:': ['top priority', 'attack but attempt', 'ignore'],\n",
    "    'Target:': ['closest', 'most damaged in range', 'most surroundable'],\n",
    "    'Range:': ['within range 3', 'within roll-2', 'within roll-1'],\n",
    "    'Move:': ['attack then back off', 'attack and stay at range'],\n",
    "    'Special:': [\n",
    "        'use special instead of attack (both if possible)', \n",
    "        'attack then special if possible', \n",
    "        'no special ability this turn'\n",
    "    ],\n",
    "}\n",
    "\n",
    "def attack(attacker_dict):\n",
    "\n",
    "    dataframe = pd.DataFrame()\n",
    "\n",
    "    for key in attacker_dict.keys():\n",
    "        dataframe.loc[key, ''] = np.random.choice(attacker_dict[key])\n",
    "\n",
    "    return dataframe\n",
    "\n",
    "\n",
    "# # formatted test output\n",
    "# print('\\n\\n==================================\\nMELEE ATTACKERS')\n",
    "# display(attack(melee))\n",
    "# print('\\n\\n==================================\\nRANGE ATTACKERS')\n",
    "# display(attack(ranged))\n",
    "# print('\\n')"
   ]
  },
  {
   "cell_type": "code",
   "execution_count": 5,
   "metadata": {
    "id": "qeKU53lRxpZE"
   },
   "outputs": [],
   "source": [
    "############### SUMMARY OF TURN ###############\n",
    "\n",
    "def turn_rules_summary(overlord_cards=False, draw_card_manually=True, max_cards=5, chance_heroes_choose=0.1):\n",
    "    print('\\n')\n",
    "    print('------------------------------ MONSTER STRATEGY ------------------------------')\n",
    "    order = monster_order(chance_heroes_choose)\n",
    "    display(order.style.set_properties(**{'text-align': 'left'}))\n",
    "    print('\\n')\n",
    "    if overlord_cards:\n",
    "        print('------------------------------ OVERLORD CARDS ------------------------------')\n",
    "        print('\\ndraw a card...')\n",
    "        overlord_card_rule(draw_card_manually, max_cards)  # false means the computer draws the cards\n",
    "        print('\\n')\n",
    "    print('------------------------------ MONSTER TACTICS ------------------------------')\n",
    "    if order.iloc[0].str.split()[0][0].lower() == 'melee':  # same order as order above\n",
    "        print('\\n------------------------------\\nMELEE ATTACKERS')\n",
    "        display(attack(melee))\n",
    "        print('\\n------------------------------\\nRANGED ATTACKERS')\n",
    "        display(attack(ranged))\n",
    "    else:  # this includes 'heroes choose'\n",
    "        print('\\n------------------------------\\nRANGED ATTACKERS')\n",
    "        display(attack(ranged))\n",
    "        print('\\n------------------------------\\nMELEE ATTACKERS')\n",
    "        display(attack(melee))\n",
    "    print('-------------------------------------------------------------------------------')\n",
    "\n",
    "# # test\n",
    "# turn_rules_summary()"
   ]
  },
  {
   "cell_type": "code",
   "execution_count": 6,
   "metadata": {
    "colab": {
     "base_uri": "https://localhost:8080/"
    },
    "id": "J92u5oGlvvEF",
    "outputId": "90a02e92-30e1-4fd2-c37f-60d925554a0b",
    "scrolled": false
   },
   "outputs": [],
   "source": [
    "############### GAME LOOP ###############\n",
    "\n",
    "def game_loop(round_counter=True, overlord_cards=False, draw_card_manually=True, max_cards=5, chance_heroes_choose=0.1):\n",
    "    round_count=0\n",
    "    while True:\n",
    "        round_count += 1\n",
    "        if round_counter:\n",
    "            print('##############################################################################')\n",
    "            print(f'                                      ROUND {round_count}')\n",
    "            print('##############################################################################')\n",
    "        turn_rules_summary(overlord_cards, draw_card_manually, max_cards, chance_heroes_choose)\n",
    "        # end game condition\n",
    "        print('\\n\\nPRESS ENTER TO CONTINUE...\\n\\n\\n\\n\\n')\n",
    "#         time.sleep(0.3)  # just to avoid the input printing above the end of the stuff before it in jupyter\n",
    "        if(input() != ''):  # anything other than enter exits (but only after an enter)\n",
    "            break\n",
    "\n",
    "\n",
    "# # test\n",
    "# game_loop(True, True, True, 5, .5)"
   ]
  },
  {
   "cell_type": "code",
   "execution_count": null,
   "metadata": {
    "id": "2aTHrC5W4cA7"
   },
   "outputs": [],
   "source": []
  },
  {
   "cell_type": "code",
   "execution_count": null,
   "metadata": {},
   "outputs": [],
   "source": []
  },
  {
   "cell_type": "code",
   "execution_count": null,
   "metadata": {},
   "outputs": [],
   "source": []
  },
  {
   "cell_type": "code",
   "execution_count": null,
   "metadata": {},
   "outputs": [],
   "source": []
  },
  {
   "cell_type": "code",
   "execution_count": 34,
   "metadata": {},
   "outputs": [],
   "source": [
    "############### SUMMARY OF TURN ###############\n",
    "# ALT EVEN LESS SPACE\n",
    "\n",
    "def turn_rules_summary(overlord_cards=False, draw_card_manually=True, max_cards=5, chance_heroes_choose=0.1):\n",
    "    print('\\n-------------------------------------------------------------------------------')\n",
    "    if overlord_cards:\n",
    "        print('\\ndraw a card...')\n",
    "        overlord_card_rule(draw_card_manually, max_cards)  # false means the computer draws the cards\n",
    "        \n",
    "    order = monster_order(chance_heroes_choose)\n",
    "    print(order.to_string())\n",
    "\n",
    "    if order.iloc[0].str.split()[0][0].lower() == 'melee':  # same order as order above\n",
    "        print('\\nMELEE ATTACKERS')\n",
    "        print(attack(melee).to_string())\n",
    "        print('\\nRANGED ATTACKERS')\n",
    "        print(attack(ranged).to_string())\n",
    "    else:  # this includes 'heroes choose'\n",
    "        print('\\nRANGED ATTACKERS')\n",
    "        print(attack(ranged).to_string())\n",
    "        print('\\nMELEE ATTACKERS')\n",
    "        print(attack(melee).to_string())\n",
    "    \n",
    "\n",
    "# # test\n",
    "# turn_rules_summary(True)"
   ]
  },
  {
   "cell_type": "code",
   "execution_count": null,
   "metadata": {},
   "outputs": [],
   "source": []
  },
  {
   "cell_type": "code",
   "execution_count": null,
   "metadata": {},
   "outputs": [],
   "source": []
  },
  {
   "cell_type": "code",
   "execution_count": null,
   "metadata": {},
   "outputs": [],
   "source": []
  },
  {
   "cell_type": "code",
   "execution_count": 69,
   "metadata": {},
   "outputs": [
    {
     "name": "stdout",
     "output_type": "stream",
     "text": [
      "\n",
      "-------------------------------------------------------------------------------\n",
      "\n",
      "draw a card...\n",
      "when possible, roll red, play the card if you roll a Surge, then discard the card\n",
      "                                     \n",
      "Monster Order by Type:  HEROES CHOOSE\n",
      "Monster Order by Rank:  HEROES CHOOSE\n",
      "\n",
      "RANGED ATTACKERS\n",
      "                                                          \n",
      "Quest:                                  attack but attempt\n",
      "Target:                                  most surroundable\n",
      "Range:                                       within roll-1\n",
      "Move:                             attack and stay at range\n",
      "Special:  use special instead of attack (both if possible)\n",
      "\n",
      "MELEE ATTACKERS\n",
      "                                                          \n",
      "Quest:                                        top priority\n",
      "Target:                              most damaged in range\n",
      "Move:                             attack and stay adjacent\n",
      "Special:  use special instead of attack (both if possible)\n"
     ]
    }
   ],
   "source": [
    "# GAME\n",
    "turn_rules_summary(True, True, 5, .5)"
   ]
  },
  {
   "cell_type": "code",
   "execution_count": null,
   "metadata": {},
   "outputs": [],
   "source": []
  },
  {
   "cell_type": "code",
   "execution_count": null,
   "metadata": {},
   "outputs": [],
   "source": []
  },
  {
   "cell_type": "code",
   "execution_count": null,
   "metadata": {},
   "outputs": [],
   "source": []
  },
  {
   "cell_type": "code",
   "execution_count": null,
   "metadata": {},
   "outputs": [],
   "source": []
  },
  {
   "cell_type": "code",
   "execution_count": null,
   "metadata": {},
   "outputs": [],
   "source": []
  },
  {
   "cell_type": "code",
   "execution_count": null,
   "metadata": {},
   "outputs": [],
   "source": []
  },
  {
   "cell_type": "code",
   "execution_count": null,
   "metadata": {},
   "outputs": [],
   "source": []
  },
  {
   "cell_type": "code",
   "execution_count": null,
   "metadata": {},
   "outputs": [],
   "source": []
  },
  {
   "cell_type": "code",
   "execution_count": null,
   "metadata": {},
   "outputs": [],
   "source": []
  },
  {
   "cell_type": "code",
   "execution_count": null,
   "metadata": {},
   "outputs": [],
   "source": []
  }
 ],
 "metadata": {
  "colab": {
   "provenance": []
  },
  "kernelspec": {
   "display_name": "Python 3 (ipykernel)",
   "language": "python",
   "name": "python3"
  },
  "language_info": {
   "codemirror_mode": {
    "name": "ipython",
    "version": 3
   },
   "file_extension": ".py",
   "mimetype": "text/x-python",
   "name": "python",
   "nbconvert_exporter": "python",
   "pygments_lexer": "ipython3",
   "version": "3.9.7"
  }
 },
 "nbformat": 4,
 "nbformat_minor": 1
}
